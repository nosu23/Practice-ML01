{
 "cells": [
  {
   "cell_type": "markdown",
   "metadata": {},
   "source": [
    "# TensorFlow2のモデルの作成方法の分類"
   ]
  },
  {
   "cell_type": "markdown",
   "metadata": {},
   "source": [
    "# 1 MLP(多層パーセプトロン)\n",
    "一番単純なモデル  \n",
    "基本的にdeep learning使う時は  \n",
    "最後に必ずこの多層パーセプトロンのレイヤーを作成する様子"
   ]
  },
  {
   "cell_type": "markdown",
   "metadata": {},
   "source": [
    "# ファッションMNIST\n",
    "元になった題材  \n",
    "https://www.tensorflow.org/tutorials/keras/classification?hl=ja"
   ]
  },
  {
   "cell_type": "markdown",
   "metadata": {},
   "source": [
    "```python\n",
    "model = keras.Sequential([\n",
    "    keras.layers.Flatten(input_shape=(28, 28)),  # 画像の2次元行列を1次元行列にするだけ\n",
    "    keras.layers.Dense(128, activation='relu'),  # 活性化関数 relu  画像系では大抵relu\n",
    "    keras.layers.Dense(10, activation='softmax') # 出力層で使われる。\n",
    "                                                 #    多項分類ではsoftmax。この場合最終的に10個のカテゴリに分類することを示す\n",
    "])\n",
    "model.compile(optimizer='adam',                  # 最適化関数 adam  これもよく使われる\n",
    "              loss='sparse_categorical_crossentropy',  # 損失関数 多項分類での交差エントロピー誤差の損失関数\n",
    "              metrics=['accuracy']) #            # モデルの訓練時に出す内容についてのメトリクスの種類  ここでは　accuracy （正解率）\n",
    "```"
   ]
  },
  {
   "cell_type": "markdown",
   "metadata": {},
   "source": [
    "```python\n",
    "# モデルの訓練\n",
    "model.fit(\n",
    "  train_images, # トレーニング用画像 test_imagesはnumpy配列\n",
    "  train_labels, # トレーニング用の画像に対応した正解ラベル\n",
    "  epochs=5      #  エポック数  トレーニング(学習)させる回数。やりすぎても過学習になるのでここも調節が必要\n",
    ")\n",
    "\n",
    "# 訓練したモデルを使って画像データを予測\n",
    "predictions = model.predict(test_images)\n",
    "\n",
    "# 予測結果の1つ目を確認\n",
    "predictions[0]\n",
    "\n",
    "## 参考ページ\n",
    "https://qiita.com/kenta1984/items/bad75a37d552510e4682\n",
    "```"
   ]
  },
  {
   "cell_type": "code",
   "execution_count": null,
   "metadata": {},
   "outputs": [],
   "source": []
  }
 ],
 "metadata": {
  "environment": {
   "name": "tf2-2-3-gpu.2-3.m59",
   "type": "gcloud",
   "uri": "gcr.io/deeplearning-platform-release/tf2-2-3-gpu.2-3:m59"
  },
  "kernelspec": {
   "display_name": "Python 3",
   "language": "python",
   "name": "python3"
  },
  "language_info": {
   "codemirror_mode": {
    "name": "ipython",
    "version": 3
   },
   "file_extension": ".py",
   "mimetype": "text/x-python",
   "name": "python",
   "nbconvert_exporter": "python",
   "pygments_lexer": "ipython3",
   "version": "3.7.8"
  }
 },
 "nbformat": 4,
 "nbformat_minor": 4
}
